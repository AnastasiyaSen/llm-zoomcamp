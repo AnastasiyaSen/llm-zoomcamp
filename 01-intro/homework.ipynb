{
 "cells": [
  {
   "cell_type": "code",
   "execution_count": 1,
   "id": "af17c583-63c5-4ab1-87b5-a8d94dead0d0",
   "metadata": {},
   "outputs": [],
   "source": [
    "import openai"
   ]
  },
  {
   "cell_type": "code",
   "execution_count": 3,
   "id": "d00c1871-8d50-4594-a419-bafde7cb29ca",
   "metadata": {},
   "outputs": [],
   "source": [
    "from openai import OpenAI"
   ]
  },
  {
   "cell_type": "code",
   "execution_count": null,
   "id": "6800f313-00bc-44d7-9515-9ffad016a21b",
   "metadata": {},
   "outputs": [],
   "source": [
    "client = OpenAI(api_key=\"\")"
   ]
  },
  {
   "cell_type": "code",
   "execution_count": 10,
   "id": "2065c043-3f38-4851-bac5-3093850e8183",
   "metadata": {},
   "outputs": [],
   "source": [
    "response = client.chat.completions.create(\n",
    "    model='gpt-4o',\n",
    "    messages=[{\"role\": \"user\", \"content\": \"is it too late to join the course?\"}]\n",
    ")"
   ]
  },
  {
   "cell_type": "code",
   "execution_count": 13,
   "id": "7c62679d-fb83-4533-a004-b3e8acc01be0",
   "metadata": {},
   "outputs": [
    {
     "data": {
      "text/plain": [
       "\"To provide a helpful answer, I would need more information about the specific course you're referring to. Generally, whether it's too late to join a course depends on several factors, such as:\\n\\n1. **Enrollment Deadlines:** Check if the course enrollment or registration deadline has passed.\\n\\n2. **Course Start Date:** If the course has already started, some institutions or platforms allow late enrollments, while others may not.\\n\\n3. **Course Format:** Online courses often have more flexible start times compared to in-person classes.\\n\\n4. **Instructor or Institution Policy:** Contact the course instructor or the institution offering the course to see if exceptions or late entries are allowed.\\n\\nTo get the most accurate information, reach out directly to the institution or platform offering the course.\""
      ]
     },
     "execution_count": 13,
     "metadata": {},
     "output_type": "execute_result"
    }
   ],
   "source": [
    "response.choices[0].message.content"
   ]
  },
  {
   "cell_type": "code",
   "execution_count": null,
   "id": "58911522-5049-44a1-b428-790df9e4eeb7",
   "metadata": {},
   "outputs": [],
   "source": []
  }
 ],
 "metadata": {
  "kernelspec": {
   "display_name": "Python 3 (ipykernel)",
   "language": "python",
   "name": "python3"
  },
  "language_info": {
   "codemirror_mode": {
    "name": "ipython",
    "version": 3
   },
   "file_extension": ".py",
   "mimetype": "text/x-python",
   "name": "python",
   "nbconvert_exporter": "python",
   "pygments_lexer": "ipython3",
   "version": "3.12.1"
  }
 },
 "nbformat": 4,
 "nbformat_minor": 5
}
