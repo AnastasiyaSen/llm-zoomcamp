{
 "cells": [
  {
   "cell_type": "code",
   "execution_count": 4,
   "id": "131dee4d-1233-4ecb-9312-53d2facfb554",
   "metadata": {},
   "outputs": [],
   "source": [
    "import random\n",
    "\n",
    "known_weather_data = {\n",
    "    'berlin': 20.0\n",
    "}\n",
    "\n",
    "def get_weather(city: str) -> float:\n",
    "    city = city.strip().lower()\n",
    "\n",
    "    if city in known_weather_data:\n",
    "        return known_weather_data[city]\n",
    "\n",
    "    return round(random.uniform(-5, 35), 1)"
   ]
  },
  {
   "cell_type": "code",
   "execution_count": 6,
   "id": "b7afd422-31d6-48a9-bd6f-a4855150abb5",
   "metadata": {},
   "outputs": [
    {
     "name": "stdout",
     "output_type": "stream",
     "text": [
      "20.0\n"
     ]
    }
   ],
   "source": [
    "a = get_weather('berlin')\n",
    "print(a)"
   ]
  },
  {
   "cell_type": "code",
   "execution_count": 17,
   "id": "263a9683-17cb-4e0c-bba9-a6fc019ec764",
   "metadata": {},
   "outputs": [],
   "source": [
    "#Q1. Define function description\n",
    "\n",
    "get_weather_tool = {\n",
    "    \"type\": \"function\",\n",
    "    \"name\": \"get_weather\",\n",
    "    \"description\": \"Returns the mock temperature for a given city. If the city is not known, it generates a random temperature.\",\n",
    "    \"parameters\": {\n",
    "      \"type\": \"object\",\n",
    "        \"properties\": {\n",
    "          \"city\": {\n",
    "            \"type\": \"string\",\n",
    "              \"description\": \"The name of the city to get the weather for.\"\n",
    "          }\n",
    "       },\n",
    "        \"required\": [\"city\"],\n",
    "        \"additionalProperties\": False\n",
    "      }\n",
    "}"
   ]
  },
  {
   "cell_type": "code",
   "execution_count": 22,
   "id": "8faa25e5-0f36-447a-9749-b944c0d7493d",
   "metadata": {},
   "outputs": [],
   "source": [
    "# Q2. Adding another tool\n",
    "def set_weather(city: str, temp: float) -> None:\n",
    "    city = city.strip().lower()\n",
    "    known_weather_data[city] = temp\n",
    "    return 'OK'"
   ]
  },
  {
   "cell_type": "code",
   "execution_count": 23,
   "id": "2d36acba-e7d1-46b2-8b49-71a29979fc52",
   "metadata": {},
   "outputs": [],
   "source": [
    "set_weather_tool = {\n",
    "    \"type\": \"function\",\n",
    "    \"name\": \"set_weather\",\n",
    "    \"description\": \"Sets or updates the temperature for a given city.\",\n",
    "    \"parameters\": {\n",
    "        \"type\": \"object\",\n",
    "        \"properties\": {\n",
    "            \"city\": {\n",
    "                \"type\": \"string\",\n",
    "                \"description\": \"The name of the city to set the weather for.\"\n",
    "            },\n",
    "            \"temp\": {\n",
    "                \"type\": \"number\",\n",
    "                \"description\": \"The temperature value to assign to the city, in degrees Celsius.\"\n",
    "            }\n",
    "        },\n",
    "        \"required\": [\"city\", \"temp\"],\n",
    "        \"additionalProperties\": False\n",
    "    }\n",
    "}"
   ]
  },
  {
   "cell_type": "code",
   "execution_count": 24,
   "id": "4de370e1-0cf1-40f3-ab0f-38702bf82c73",
   "metadata": {},
   "outputs": [
    {
     "data": {
      "text/plain": [
       "'OK'"
      ]
     },
     "execution_count": 24,
     "metadata": {},
     "output_type": "execute_result"
    }
   ],
   "source": [
    "b = set_weather('vilnius', 17.2)\n",
    "b"
   ]
  },
  {
   "cell_type": "code",
   "execution_count": 25,
   "id": "6ef2d7f3-4eea-4033-96ef-fb0f7ecf54da",
   "metadata": {},
   "outputs": [
    {
     "name": "stdout",
     "output_type": "stream",
     "text": [
      "17.2\n"
     ]
    }
   ],
   "source": [
    "a = get_weather('vilnius')\n",
    "print(a)"
   ]
  },
  {
   "cell_type": "code",
   "execution_count": 4,
   "id": "e9f422f5-5ca9-463d-bbce-749ca847aa9c",
   "metadata": {},
   "outputs": [],
   "source": [
    "## Q3. Install FastMCP\n",
    "import fastmcp"
   ]
  },
  {
   "cell_type": "code",
   "execution_count": 5,
   "id": "e50e1530-a435-4150-911e-4697c6a6fd64",
   "metadata": {},
   "outputs": [
    {
     "name": "stdout",
     "output_type": "stream",
     "text": [
      "2.10.5\n"
     ]
    }
   ],
   "source": [
    "print(fastmcp.__version__)"
   ]
  },
  {
   "cell_type": "code",
   "execution_count": null,
   "id": "06681eef-3210-4280-bcd6-8f8eaed569c6",
   "metadata": {},
   "outputs": [],
   "source": []
  }
 ],
 "metadata": {
  "kernelspec": {
   "display_name": "Python 3 (ipykernel)",
   "language": "python",
   "name": "python3"
  },
  "language_info": {
   "codemirror_mode": {
    "name": "ipython",
    "version": 3
   },
   "file_extension": ".py",
   "mimetype": "text/x-python",
   "name": "python",
   "nbconvert_exporter": "python",
   "pygments_lexer": "ipython3",
   "version": "3.12.1"
  }
 },
 "nbformat": 4,
 "nbformat_minor": 5
}
